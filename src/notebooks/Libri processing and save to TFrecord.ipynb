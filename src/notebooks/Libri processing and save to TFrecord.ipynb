{
 "cells": [
  {
   "cell_type": "code",
   "execution_count": 1,
   "metadata": {},
   "outputs": [],
   "source": [
    "import pandas as pd\n",
    "import numpy as np\n",
    "import soundfile\n",
    "import librosa\n",
    "import tensorflow as tf\n",
    "from tensorflow.keras.preprocessing.sequence import pad_sequences\n",
    "\n",
    "from tqdm import tqdm \n",
    "import csv\n",
    "import os\n",
    "import pathlib\n",
    "import shutil"
   ]
  },
  {
   "cell_type": "code",
   "execution_count": 40,
   "metadata": {},
   "outputs": [
    {
     "name": "stdout",
     "output_type": "stream",
     "text": [
      "84-121123-0000\n",
      "GO DO YOU HEAR\n",
      "\n",
      "84-121123-0001\n",
      "BUT IN LESS THAN FIVE MINUTES THE STAIRCASE GROANED BENEATH AN EXTRAORDINARY WEIGHT\n",
      "\n",
      "84-121123-0002\n",
      "AT THIS MOMENT THE WHOLE SOUL OF THE OLD MAN SEEMED CENTRED IN HIS EYES WHICH BECAME BLOODSHOT THE VEINS OF THE THROAT SWELLED HIS CHEEKS AND TEMPLES BECAME PURPLE AS THOUGH HE WAS STRUCK WITH EPILEPSY NOTHING WAS WANTING TO COMPLETE THIS BUT THE UTTERANCE OF A CRY\n",
      "\n",
      "84-121123-0003\n",
      "AND THE CRY ISSUED FROM HIS PORES IF WE MAY THUS SPEAK A CRY FRIGHTFUL IN ITS SILENCE\n",
      "\n",
      "84-121123-0004\n",
      "D'AVRIGNY RUSHED TOWARDS THE OLD MAN AND MADE HIM INHALE A POWERFUL RESTORATIVE\n",
      "\n"
     ]
    }
   ],
   "source": [
    "path = '../../data/toy_raw/84/121123/84-121123.trans.txt'\n",
    "\n",
    "i = 0\n",
    "with open(path, 'r') as file:\n",
    "    for line in file.readlines():\n",
    "        name, label = line.split(' ', 1)\n",
    "        print(name)\n",
    "        print(label)\n",
    "        i += 1\n",
    "        if i ==5:\n",
    "            break"
   ]
  },
  {
   "cell_type": "code",
   "execution_count": 4,
   "metadata": {},
   "outputs": [
    {
     "name": "stdout",
     "output_type": "stream",
     "text": [
      "Removed ../dataset/LibriSpeech/dev-clean/.ipynb_checkpoints\n"
     ]
    }
   ],
   "source": [
    "def clean_ipynb_folder_if_exists(folder):\n",
    "    folder = pathlib.Path(folder)\n",
    "    ipynb_paths = [str(item) for item in folder.glob('**/*') if item.is_dir() and item.name.startswith('.ipynb')]\n",
    "    if len(ipynb_paths) > 0:\n",
    "        for eachdir in ipynb_paths:\n",
    "            shutil.rmtree(eachdir)\n",
    "            print(\"Removed\", eachdir)\n",
    "    else:\n",
    "        print('No .ipynb_checkpoints to remove')\n",
    "        \n",
    "clean_ipynb_folder_if_exists('../dataset/LibriSpeech/dev-clean')"
   ]
  },
  {
   "cell_type": "code",
   "execution_count": null,
   "metadata": {},
   "outputs": [],
   "source": [
    "dir_walk = list(os.walk('../../dataset/LibriSpeech/dev-clean'))\n",
    "i = 0\n",
    "for root, dirs, files in tqdm(dir_walk):\n",
    "    for file in files:\n",
    "        if file[-4:] == '.txt':\n",
    "            print(file)"
   ]
  },
  {
   "cell_type": "code",
   "execution_count": null,
   "metadata": {},
   "outputs": [],
   "source": [
    "dir_walk"
   ]
  },
  {
   "cell_type": "code",
   "execution_count": 12,
   "metadata": {},
   "outputs": [],
   "source": [
    "def preprocess_librispeech(directory):\n",
    "\n",
    "    # TODO: Maybe normalize data\n",
    "\n",
    "    print(\"Pre-processing LibriSpeech corpus\")\n",
    "\n",
    "    start_time = time.time()\n",
    "\n",
    "    character_mapping = utils.create_character_mapping()\n",
    "\n",
    "    if not os.path.exists(conf_preprocess['data_dir']):\n",
    "        os.makedirs(conf_preprocess['data_dir'])\n",
    "\n",
    "    dir_walk = list(os.walk(directory))\n",
    "    num_hours = 0\n",
    "\n",
    "    with open(os.path.join(conf_preprocess['data_dir'], 'metadata.csv'), 'w', newline='') as metadata:\n",
    "        metadata_writer = csv.DictWriter(metadata, fieldnames=['filename', 'spec_length', 'labels_length', 'labels'])\n",
    "        metadata_writer.writeheader()\n",
    "        for root, dirs, files in tqdm(dir_walk):\n",
    "            for file in files:\n",
    "                if file[-4:] == '.txt':\n",
    "                    with open(os.path.join(root, file), 'r') as f:\n",
    "                        for line in f.readlines():\n",
    "                            sections = line.split(' ')\n",
    "                            audio, sr = sf.read(os.path.join(root, sections[0] + '.flac'))\n",
    "                            num_hours += (len(audio) / sr) / 3600\n",
    "                            spec = log_linear_specgram(audio, sr, window_size=conf_preprocess['window_size'],\n",
    "                                                       step_size=conf_preprocess['step_size'])\n",
    "                            np.save(os.path.join(conf_preprocess['data_dir'], sections[0] + '.npy'), spec)\n",
    "                            ids = [character_mapping[c] for c in ' '.join(sections[1:]).lower()\n",
    "                                   if c in character_mapping]\n",
    "                            metadata_writer.writerow({\n",
    "                                'filename': sections[0],\n",
    "                                'spec_length': spec.shape[0],\n",
    "                                'labels_length': len(ids),\n",
    "                                'labels': ' '.join([str(i) for i in ids])\n",
    "                            })\n",
    "\n",
    "    print(\"Done!\")\n",
    "    print(\"Hours pre-processed: \" + str(num_hours))\n",
    "    print(\"Time: \" + str(time.time() - start_time))"
   ]
  },
  {
   "cell_type": "code",
   "execution_count": 13,
   "metadata": {
    "collapsed": true,
    "jupyter": {
     "outputs_hidden": true
    }
   },
   "outputs": [
    {
     "name": "stdout",
     "output_type": "stream",
     "text": [
      "Pre-processing LibriSpeech corpus\n"
     ]
    },
    {
     "ename": "NameError",
     "evalue": "name 'time' is not defined",
     "output_type": "error",
     "traceback": [
      "\u001b[0;31m---------------------------------------------------------------------------\u001b[0m",
      "\u001b[0;31mNameError\u001b[0m                                 Traceback (most recent call last)",
      "\u001b[0;32m<ipython-input-13-67e7dbb8beed>\u001b[0m in \u001b[0;36m<module>\u001b[0;34m\u001b[0m\n\u001b[0;32m----> 1\u001b[0;31m \u001b[0mpreprocess_librispeech\u001b[0m\u001b[0;34m(\u001b[0m\u001b[0;34m'../dataset/LibriSpeech/dev-clean'\u001b[0m\u001b[0;34m)\u001b[0m\u001b[0;34m\u001b[0m\u001b[0;34m\u001b[0m\u001b[0m\n\u001b[0m",
      "\u001b[0;32m<ipython-input-12-6fa42851c898>\u001b[0m in \u001b[0;36mpreprocess_librispeech\u001b[0;34m(directory)\u001b[0m\n\u001b[1;32m      5\u001b[0m     \u001b[0mprint\u001b[0m\u001b[0;34m(\u001b[0m\u001b[0;34m\"Pre-processing LibriSpeech corpus\"\u001b[0m\u001b[0;34m)\u001b[0m\u001b[0;34m\u001b[0m\u001b[0;34m\u001b[0m\u001b[0m\n\u001b[1;32m      6\u001b[0m \u001b[0;34m\u001b[0m\u001b[0m\n\u001b[0;32m----> 7\u001b[0;31m     \u001b[0mstart_time\u001b[0m \u001b[0;34m=\u001b[0m \u001b[0mtime\u001b[0m\u001b[0;34m.\u001b[0m\u001b[0mtime\u001b[0m\u001b[0;34m(\u001b[0m\u001b[0;34m)\u001b[0m\u001b[0;34m\u001b[0m\u001b[0;34m\u001b[0m\u001b[0m\n\u001b[0m\u001b[1;32m      8\u001b[0m \u001b[0;34m\u001b[0m\u001b[0m\n\u001b[1;32m      9\u001b[0m     \u001b[0mcharacter_mapping\u001b[0m \u001b[0;34m=\u001b[0m \u001b[0mutils\u001b[0m\u001b[0;34m.\u001b[0m\u001b[0mcreate_character_mapping\u001b[0m\u001b[0;34m(\u001b[0m\u001b[0;34m)\u001b[0m\u001b[0;34m\u001b[0m\u001b[0;34m\u001b[0m\u001b[0m\n",
      "\u001b[0;31mNameError\u001b[0m: name 'time' is not defined"
     ]
    }
   ],
   "source": [
    "preprocess_librispeech('../../dataset/LibriSpeech/dev-clean')"
   ]
  },
  {
   "cell_type": "code",
   "execution_count": 16,
   "metadata": {},
   "outputs": [
    {
     "name": "stdout",
     "output_type": "stream",
     "text": [
      "Librosa sample rate: 22050\n",
      "Soundfile sample rate: 16000\n"
     ]
    }
   ],
   "source": [
    "filename = '../../data/toy_raw/84/121123/84-121123-0000.flac'\n",
    "lib_audio, lib_sr = librosa.load(filename)\n",
    "sf_audio, sf_sr = sf.read(filename)\n",
    "\n",
    "print('Librosa sample rate:', lib_sr)\n",
    "print('Soundfile sample rate:', sf_sr)"
   ]
  },
  {
   "cell_type": "code",
   "execution_count": 13,
   "metadata": {},
   "outputs": [
    {
     "name": "stdout",
     "output_type": "stream",
     "text": [
      "2.0900226757369613\n",
      "2.09\n"
     ]
    }
   ],
   "source": [
    "print(len(lib_audio)/lib_sr)\n",
    "print(len(sf_audio)/sf_sr)"
   ]
  },
  {
   "cell_type": "code",
   "execution_count": 12,
   "metadata": {},
   "outputs": [
    {
     "data": {
      "text/plain": [
       "[<matplotlib.lines.Line2D at 0x7f36e8ab5d68>]"
      ]
     },
     "execution_count": 12,
     "metadata": {},
     "output_type": "execute_result"
    },
    {
     "data": {
      "image/png": "[encoded data removed]",
      "text/plain": [
       "<Figure size 864x288 with 1 Axes>"
      ]
     },
     "metadata": {
      "needs_background": "light"
     },
     "output_type": "display_data"
    }
   ],
   "source": [
    "import matplotlib.pyplot as plt\n",
    "\n",
    "# Librosa audio with channels merged \n",
    "plt.figure(figsize=(12, 4))\n",
    "plt.plot(lib_audio)\n",
    "plt.plot(sf_audio)"
   ]
  },
  {
   "cell_type": "code",
   "execution_count": 11,
   "metadata": {},
   "outputs": [
    {
     "data": {
      "text/plain": [
       "[<matplotlib.lines.Line2D at 0x7f36e8d88940>]"
      ]
     },
     "execution_count": 11,
     "metadata": {},
     "output_type": "execute_result"
    },
    {
     "data": {
      "image/png": "[encoded data removed]",
      "text/plain": [
       "<Figure size 864x288 with 1 Axes>"
      ]
     },
     "metadata": {
      "needs_background": "light"
     },
     "output_type": "display_data"
    }
   ],
   "source": [
    "plt.figure(figsize=(12, 4))\n",
    "plt.plot(sf_audio)"
   ]
  },
  {
   "cell_type": "code",
   "execution_count": 43,
   "metadata": {},
   "outputs": [
    {
     "name": "stdout",
     "output_type": "stream",
     "text": [
      "(40, 91)\n"
     ]
    },
    {
     "data": {
      "text/plain": [
       "<matplotlib.axes._subplots.AxesSubplot at 0x7f36e4f33828>"
      ]
     },
     "execution_count": 43,
     "metadata": {},
     "output_type": "execute_result"
    },
    {
     "data": {
      "image/png": "[encoded data removed]",
      "text/plain": [
       "<Figure size 432x288 with 1 Axes>"
      ]
     },
     "metadata": {
      "needs_background": "light"
     },
     "output_type": "display_data"
    }
   ],
   "source": [
    "import librosa.display\n",
    "\n",
    "mfccs = librosa.feature.mfcc(y=lib_audio, sr=lib_sr, n_mfcc=40)\n",
    "print(mfccs.shape)\n",
    "\n",
    "librosa.display.specshow(mfccs, sr=lib_sr, x_axis='time')"
   ]
  },
  {
   "cell_type": "code",
   "execution_count": 44,
   "metadata": {},
   "outputs": [
    {
     "data": {
      "text/plain": [
       "(40,)"
      ]
     },
     "execution_count": 44,
     "metadata": {},
     "output_type": "execute_result"
    }
   ],
   "source": [
    "mfccsscaled = np.mean(mfccs.T,axis=0)\n",
    "mfccsscaled.shape"
   ]
  },
  {
   "cell_type": "code",
   "execution_count": 2,
   "metadata": {},
   "outputs": [],
   "source": [
    "import re\n",
    "\n",
    "def create_character_mapping():\n",
    "\n",
    "    character_map = {' ': 0}\n",
    "\n",
    "    for i in range(97, 123):\n",
    "        character_map[chr(i)] = len(character_map)\n",
    "\n",
    "    return character_map\n",
    "\n",
    "def label_idx(label):\n",
    "    \n",
    "    char_2_idx = create_character_mapping() \n",
    "    \n",
    "    label = ' '.join(re.split('[^a-z]', label.lower()[:-1])) #only take alpha and ignore /n at the end of a sentence\n",
    "    \n",
    "    vector = [char_2_idx[char] for char in label] #convert string to vector of index\n",
    "    \n",
    "    return vector"
   ]
  },
  {
   "cell_type": "code",
   "execution_count": 3,
   "metadata": {},
   "outputs": [],
   "source": [
    "def clean_ipynb_folder_if_exists(folder):\n",
    "    \n",
    "    folder = pathlib.Path(folder)\n",
    "    ipynb_paths = [str(item) for item in folder.glob('**/*') if item.is_dir() and item.name.startswith('.ipynb')]\n",
    "    \n",
    "    if len(ipynb_paths) > 0:\n",
    "        \n",
    "        for eachdir in ipynb_paths:\n",
    "            shutil.rmtree(eachdir)\n",
    "            print(\"Removed\", eachdir)\n",
    "    else:\n",
    "        \n",
    "        print('No .ipynb_checkpoints to remove')\n"
   ]
  },
  {
   "cell_type": "code",
   "execution_count": 4,
   "metadata": {},
   "outputs": [],
   "source": [
    "def create_main_metadata(SRC, DST):\n",
    "    clean_ipynb_folder_if_exists(SRC)\n",
    "    walk_dir = list(os.walk(SRC))\n",
    "\n",
    "    i = 0\n",
    "    \n",
    "    if not os.path.exists(DST):\n",
    "        os.makedirs(DST)\n",
    "    \n",
    "    with open(os.path.join(DST, 'metadata.csv'), 'w', newline='') as metadata:\n",
    "        \n",
    "        metadata_writer = csv.DictWriter(metadata, delimiter=',', fieldnames=['index','filepath', 'label', 'label_length', 'spec_length'])\n",
    "        metadata_writer.writeheader()\n",
    "    \n",
    "        for root, dirs, metas in tqdm(walk_dir):\n",
    "\n",
    "            for meta in metas:\n",
    "\n",
    "                if meta[-4:] == '.txt':\n",
    "                    with open(os.path.join(root, meta), 'r') as f:\n",
    "\n",
    "                        for line in f.readlines():\n",
    "\n",
    "\n",
    "                            name, label = line.split(' ', 1) \n",
    "                            path = os.path.join(root, name + '.flac')\n",
    "                            \n",
    "                            spec_length = extract_features(path).shape[1]\n",
    "                            label = label_idx(label)\n",
    "                            \n",
    "                            metadata_writer.writerow({\n",
    "                                'index':i,\n",
    "                                'filepath': path,\n",
    "                                'label': label,\n",
    "                                'label_length': len(label),\n",
    "                                'spec_length': spec_length\n",
    "                            })\n",
    "\n",
    "                            if i % 100 == 0:\n",
    "                                print('The number files is processed: ', i)\n",
    "                            i += 1\n",
    "\n",
    "        print('Number of processed file', i)"
   ]
  },
  {
   "cell_type": "code",
   "execution_count": 5,
   "metadata": {},
   "outputs": [],
   "source": [
    "def _float_feature(list_of_floats):  # float32\n",
    "    return tf.train.Feature(float_list=tf.train.FloatList(value=list_of_floats))\n",
    "\n",
    "\n",
    "def _int64_feature(value):\n",
    "    return tf.train.Feature(int64_list=tf.train.Int64List(value=value))\n",
    "\n",
    "\n",
    "def extract_features(file_path):\n",
    "    try:\n",
    "        audio, sample_rate = librosa.load(file_path) \n",
    "        mfccs = librosa.feature.mfcc(y=audio, sr=sample_rate, n_mfcc=40)\n",
    "        \n",
    "    except Exception as e:\n",
    "        print(\"Error encountered while parsing file: \", file_path)\n",
    "        return None \n",
    "    \n",
    "    return mfccs\n",
    "\n",
    "\n",
    "\n",
    "class TFRecordsConverter:\n",
    "    \"\"\"Convert audio to TFRecords.\"\"\"\n",
    "    def __init__(self, meta, output_dir, n_shards_train, n_shards_test,\n",
    "                 n_shards_val, test_size, val_size):\n",
    "        self.output_dir = output_dir\n",
    "        self.n_shards_train = n_shards_train\n",
    "        self.n_shards_test = n_shards_test\n",
    "        self.n_shards_val = n_shards_val\n",
    "\n",
    "        if not os.path.exists(self.output_dir):\n",
    "            os.makedirs(self.output_dir)\n",
    "        \n",
    "        df = pd.read_csv(meta, index_col=0)\n",
    "        # Shuffle data by \"sampling\" the entire data-frame\n",
    "        self.df = df.sample(frac=1, random_state=101)\n",
    "        self.max_input_len = self.df.spec_length.max()\n",
    "        self.max_label_len = self.df.label_length.max()\n",
    "        \n",
    "        n_samples = len(df)\n",
    "        self.n_test = np.ceil(n_samples * test_size)\n",
    "        self.n_val = np.ceil(n_samples * val_size)\n",
    "        self.n_train = n_samples - self.n_test - self.n_val\n",
    "\n",
    "    def _get_shard_path(self, split, shard_id, shard_size):\n",
    "        return os.path.join(self.output_dir,\n",
    "                            '{}-{:03d}-{}.tfrecord'.format(split, shard_id,\n",
    "                                                           shard_size))\n",
    "\n",
    "    def _write_tfrecord_file(self, shard_path, indices):\n",
    "        \"\"\"Write TFRecord file.\"\"\"\n",
    "        with tf.io.TFRecordWriter(shard_path, options='ZLIB') as out:\n",
    "            for index in indices:\n",
    "                index = int(index)\n",
    "                file_path = self.df.filepath.iloc[index]\n",
    "                \n",
    "                label = eval(self.df.label.iloc[index])\n",
    "                if len(label) < self.max_label_len:\n",
    "                    offset = self.max_label_len - len(label)\n",
    "                    padding = [0 for _ in range(offset)]\n",
    "                    label = label + padding\n",
    "                \n",
    "                feature = extract_features(file_path)\n",
    "                feature = pad_sequences(feature, maxlen= self.max_input_len, padding = 'post')\n",
    "                \n",
    "                \n",
    "                # Example is a flexible message type that contains key-value\n",
    "                # pairs, where each key maps to a Feature message. Here, each\n",
    "                # Example contains two features: A FloatList for the decoded\n",
    "                # audio data and an Int64List containing the corresponding\n",
    "                # label's index.\n",
    "                example = tf.train.Example(features=tf.train.Features(feature={\n",
    "                    'feature': _float_feature(feature.flatten().tolist()),\n",
    "                    'label': _int64_feature(label)}))\n",
    "\n",
    "                out.write(example.SerializeToString())\n",
    "\n",
    "    def convert(self):\n",
    "        \"\"\"Convert to TFRecords.\n",
    "        Partition data into training, testing and validation sets. Then,\n",
    "        divide each data set into the specified number of TFRecords shards.\n",
    "        \"\"\"\n",
    "        splits = ('train', 'test', 'validate')\n",
    "        split_sizes = (self.n_train, self.n_test, self.n_val)\n",
    "        split_n_shards = (self.n_shards_train, self.n_shards_test,\n",
    "                          self.n_shards_val)\n",
    "\n",
    "        offset = 0\n",
    "        for split, size, n_shards in zip(splits, split_sizes, split_n_shards):\n",
    "            \n",
    "            print('Converting {} set into TFRecord shards...'.format(split))\n",
    "            shard_size = np.ceil(size / n_shards)\n",
    "            cumulative_size = offset + size\n",
    "            \n",
    "            for shard_id in range(1, n_shards + 1):\n",
    "                \n",
    "                step_size = min(shard_size, cumulative_size - offset)\n",
    "                shard_path = self._get_shard_path(split, shard_id, step_size)\n",
    "                \n",
    "                # Generate a subset of indices to select only a subset of\n",
    "                # audio-files/labels for the current shard.\n",
    "                file_indices = np.arange(offset, offset + step_size)\n",
    "                self._write_tfrecord_file(shard_path, file_indices)\n",
    "                offset += step_size\n",
    "\n",
    "        print('Number of training examples: {}'.format(self.n_train))\n",
    "        print('Number of testing examples: {}'.format(self.n_test))\n",
    "        print('Number of validation examples: {}'.format(self.n_val))\n",
    "        print('TFRecord files saved to {}'.format(self.output_dir))"
   ]
  },
  {
   "cell_type": "code",
   "execution_count": 7,
   "metadata": {},
   "outputs": [
    {
     "name": "stderr",
     "output_type": "stream",
     "text": [
      "  0%|          | 0/138 [00:00<?, ?it/s]"
     ]
    },
    {
     "name": "stdout",
     "output_type": "stream",
     "text": [
      "No .ipynb_checkpoints to remove\n",
      "The number files is processed:  0\n"
     ]
    },
    {
     "name": "stderr",
     "output_type": "stream",
     "text": [
      "  4%|▍         | 6/138 [00:14<05:38,  2.57s/it]"
     ]
    },
    {
     "name": "stdout",
     "output_type": "stream",
     "text": [
      "The number files is processed:  100\n"
     ]
    },
    {
     "name": "stderr",
     "output_type": "stream",
     "text": [
      "  7%|▋         | 10/138 [00:25<06:07,  2.87s/it]"
     ]
    },
    {
     "name": "stdout",
     "output_type": "stream",
     "text": [
      "The number files is processed:  200\n"
     ]
    },
    {
     "name": "stderr",
     "output_type": "stream",
     "text": [
      "  9%|▉         | 13/138 [00:38<07:27,  3.58s/it]"
     ]
    },
    {
     "name": "stdout",
     "output_type": "stream",
     "text": [
      "The number files is processed:  300\n"
     ]
    },
    {
     "name": "stderr",
     "output_type": "stream",
     "text": [
      " 13%|█▎        | 18/138 [00:50<05:54,  2.95s/it]"
     ]
    },
    {
     "name": "stdout",
     "output_type": "stream",
     "text": [
      "The number files is processed:  400\n"
     ]
    },
    {
     "name": "stderr",
     "output_type": "stream",
     "text": [
      " 16%|█▌        | 22/138 [00:59<04:50,  2.50s/it]"
     ]
    },
    {
     "name": "stdout",
     "output_type": "stream",
     "text": [
      "The number files is processed:  500\n"
     ]
    },
    {
     "name": "stderr",
     "output_type": "stream",
     "text": [
      " 20%|█▉        | 27/138 [01:13<05:24,  2.92s/it]"
     ]
    },
    {
     "name": "stdout",
     "output_type": "stream",
     "text": [
      "The number files is processed:  600\n"
     ]
    },
    {
     "name": "stderr",
     "output_type": "stream",
     "text": [
      " 23%|██▎       | 32/138 [01:30<05:27,  3.09s/it]"
     ]
    },
    {
     "name": "stdout",
     "output_type": "stream",
     "text": [
      "The number files is processed:  700\n"
     ]
    },
    {
     "name": "stderr",
     "output_type": "stream",
     "text": [
      " 27%|██▋       | 37/138 [01:43<05:08,  3.06s/it]"
     ]
    },
    {
     "name": "stdout",
     "output_type": "stream",
     "text": [
      "The number files is processed:  800\n"
     ]
    },
    {
     "name": "stderr",
     "output_type": "stream",
     "text": [
      " 32%|███▏      | 44/138 [02:01<04:24,  2.81s/it]"
     ]
    },
    {
     "name": "stdout",
     "output_type": "stream",
     "text": [
      "The number files is processed:  900\n"
     ]
    },
    {
     "name": "stderr",
     "output_type": "stream",
     "text": [
      " 36%|███▌      | 49/138 [02:14<04:03,  2.73s/it]"
     ]
    },
    {
     "name": "stdout",
     "output_type": "stream",
     "text": [
      "The number files is processed:  1000\n"
     ]
    },
    {
     "name": "stderr",
     "output_type": "stream",
     "text": [
      " 40%|███▉      | 55/138 [02:27<03:14,  2.35s/it]"
     ]
    },
    {
     "name": "stdout",
     "output_type": "stream",
     "text": [
      "The number files is processed:  1100\n"
     ]
    },
    {
     "name": "stderr",
     "output_type": "stream",
     "text": [
      " 44%|████▍     | 61/138 [02:47<05:03,  3.95s/it]"
     ]
    },
    {
     "name": "stdout",
     "output_type": "stream",
     "text": [
      "The number files is processed:  1200\n"
     ]
    },
    {
     "name": "stderr",
     "output_type": "stream",
     "text": [
      " 49%|████▉     | 68/138 [03:07<03:14,  2.78s/it]"
     ]
    },
    {
     "name": "stdout",
     "output_type": "stream",
     "text": [
      "The number files is processed:  1300\n"
     ]
    },
    {
     "name": "stderr",
     "output_type": "stream",
     "text": [
      " 53%|█████▎    | 73/138 [03:24<03:19,  3.08s/it]"
     ]
    },
    {
     "name": "stdout",
     "output_type": "stream",
     "text": [
      "The number files is processed:  1400\n"
     ]
    },
    {
     "name": "stderr",
     "output_type": "stream",
     "text": [
      " 57%|█████▋    | 78/138 [03:37<02:52,  2.88s/it]"
     ]
    },
    {
     "name": "stdout",
     "output_type": "stream",
     "text": [
      "The number files is processed:  1500\n"
     ]
    },
    {
     "name": "stderr",
     "output_type": "stream",
     "text": [
      " 60%|██████    | 83/138 [03:51<02:37,  2.85s/it]"
     ]
    },
    {
     "name": "stdout",
     "output_type": "stream",
     "text": [
      "The number files is processed:  1600\n"
     ]
    },
    {
     "name": "stderr",
     "output_type": "stream",
     "text": [
      " 64%|██████▍   | 88/138 [04:05<02:20,  2.82s/it]"
     ]
    },
    {
     "name": "stdout",
     "output_type": "stream",
     "text": [
      "The number files is processed:  1700\n"
     ]
    },
    {
     "name": "stderr",
     "output_type": "stream",
     "text": [
      " 66%|██████▌   | 91/138 [04:11<02:01,  2.58s/it]"
     ]
    },
    {
     "name": "stdout",
     "output_type": "stream",
     "text": [
      "The number files is processed:  1800\n"
     ]
    },
    {
     "name": "stderr",
     "output_type": "stream",
     "text": [
      " 72%|███████▏  | 99/138 [04:30<01:22,  2.12s/it]"
     ]
    },
    {
     "name": "stdout",
     "output_type": "stream",
     "text": [
      "The number files is processed:  1900\n"
     ]
    },
    {
     "name": "stderr",
     "output_type": "stream",
     "text": [
      " 75%|███████▍  | 103/138 [04:49<02:09,  3.71s/it]"
     ]
    },
    {
     "name": "stdout",
     "output_type": "stream",
     "text": [
      "The number files is processed:  2000\n"
     ]
    },
    {
     "name": "stderr",
     "output_type": "stream",
     "text": [
      " 78%|███████▊  | 107/138 [04:59<01:47,  3.47s/it]"
     ]
    },
    {
     "name": "stdout",
     "output_type": "stream",
     "text": [
      "The number files is processed:  2100\n"
     ]
    },
    {
     "name": "stderr",
     "output_type": "stream",
     "text": [
      " 82%|████████▏ | 113/138 [05:19<01:22,  3.31s/it]"
     ]
    },
    {
     "name": "stdout",
     "output_type": "stream",
     "text": [
      "The number files is processed:  2200\n"
     ]
    },
    {
     "name": "stderr",
     "output_type": "stream",
     "text": [
      " 83%|████████▎ | 115/138 [05:29<01:28,  3.85s/it]"
     ]
    },
    {
     "name": "stdout",
     "output_type": "stream",
     "text": [
      "The number files is processed:  2300\n"
     ]
    },
    {
     "name": "stderr",
     "output_type": "stream",
     "text": [
      " 88%|████████▊ | 121/138 [05:50<00:59,  3.53s/it]"
     ]
    },
    {
     "name": "stdout",
     "output_type": "stream",
     "text": [
      "The number files is processed:  2400\n"
     ]
    },
    {
     "name": "stderr",
     "output_type": "stream",
     "text": [
      " 93%|█████████▎| 128/138 [06:10<00:29,  2.93s/it]"
     ]
    },
    {
     "name": "stdout",
     "output_type": "stream",
     "text": [
      "The number files is processed:  2500\n"
     ]
    },
    {
     "name": "stderr",
     "output_type": "stream",
     "text": [
      " 98%|█████████▊| 135/138 [06:26<00:08,  2.73s/it]"
     ]
    },
    {
     "name": "stdout",
     "output_type": "stream",
     "text": [
      "The number files is processed:  2600\n"
     ]
    },
    {
     "name": "stderr",
     "output_type": "stream",
     "text": [
      " 99%|█████████▊| 136/138 [06:30<00:05,  3.00s/it]"
     ]
    },
    {
     "name": "stdout",
     "output_type": "stream",
     "text": [
      "The number files is processed:  2700\n"
     ]
    },
    {
     "name": "stderr",
     "output_type": "stream",
     "text": [
      "100%|██████████| 138/138 [06:40<00:00,  2.90s/it]"
     ]
    },
    {
     "name": "stdout",
     "output_type": "stream",
     "text": [
      "Number of processed file 2703\n"
     ]
    },
    {
     "name": "stderr",
     "output_type": "stream",
     "text": [
      "\n"
     ]
    }
   ],
   "source": [
    "SRC = '../../data/dev-clean'\n",
    "DST = '../../data/dev_clean_final'\n",
    "\n",
    "create_main_metadata(SRC, DST)"
   ]
  },
  {
   "cell_type": "code",
   "execution_count": 8,
   "metadata": {},
   "outputs": [
    {
     "name": "stdout",
     "output_type": "stream",
     "text": [
      "(2703, 4)\n"
     ]
    },
    {
     "data": {
      "text/html": [
       "<div>\n",
       "<style scoped>\n",
       "    .dataframe tbody tr th:only-of-type {\n",
       "        vertical-align: middle;\n",
       "    }\n",
       "\n",
       "    .dataframe tbody tr th {\n",
       "        vertical-align: top;\n",
       "    }\n",
       "\n",
       "    .dataframe thead th {\n",
       "        text-align: right;\n",
       "    }\n",
       "</style>\n",
       "<table border=\"1\" class=\"dataframe\">\n",
       "  <thead>\n",
       "    <tr style=\"text-align: right;\">\n",
       "      <th></th>\n",
       "      <th>filepath</th>\n",
       "      <th>label</th>\n",
       "      <th>label_length</th>\n",
       "      <th>spec_length</th>\n",
       "    </tr>\n",
       "    <tr>\n",
       "      <th>index</th>\n",
       "      <th></th>\n",
       "      <th></th>\n",
       "      <th></th>\n",
       "      <th></th>\n",
       "    </tr>\n",
       "  </thead>\n",
       "  <tbody>\n",
       "    <tr>\n",
       "      <th>0</th>\n",
       "      <td>../../data/dev-clean/84/121123/84-121123-0000....</td>\n",
       "      <td>[7, 15, 0, 4, 15, 0, 25, 15, 21, 0, 8, 5, 1, 18]</td>\n",
       "      <td>14</td>\n",
       "      <td>91</td>\n",
       "    </tr>\n",
       "    <tr>\n",
       "      <th>1</th>\n",
       "      <td>../../data/dev-clean/84/121123/84-121123-0001....</td>\n",
       "      <td>[2, 21, 20, 0, 9, 14, 0, 12, 5, 19, 19, 0, 20,...</td>\n",
       "      <td>83</td>\n",
       "      <td>172</td>\n",
       "    </tr>\n",
       "    <tr>\n",
       "      <th>2</th>\n",
       "      <td>../../data/dev-clean/84/121123/84-121123-0002....</td>\n",
       "      <td>[1, 20, 0, 20, 8, 9, 19, 0, 13, 15, 13, 5, 14,...</td>\n",
       "      <td>265</td>\n",
       "      <td>590</td>\n",
       "    </tr>\n",
       "    <tr>\n",
       "      <th>3</th>\n",
       "      <td>../../data/dev-clean/84/121123/84-121123-0003....</td>\n",
       "      <td>[1, 14, 4, 0, 20, 8, 5, 0, 3, 18, 25, 0, 9, 19...</td>\n",
       "      <td>85</td>\n",
       "      <td>293</td>\n",
       "    </tr>\n",
       "    <tr>\n",
       "      <th>4</th>\n",
       "      <td>../../data/dev-clean/84/121123/84-121123-0004....</td>\n",
       "      <td>[4, 0, 1, 22, 18, 9, 7, 14, 25, 0, 18, 21, 19,...</td>\n",
       "      <td>79</td>\n",
       "      <td>190</td>\n",
       "    </tr>\n",
       "  </tbody>\n",
       "</table>\n",
       "</div>"
      ],
      "text/plain": [
       "                                                filepath  \\\n",
       "index                                                      \n",
       "0      ../../data/dev-clean/84/121123/84-121123-0000....   \n",
       "1      ../../data/dev-clean/84/121123/84-121123-0001....   \n",
       "2      ../../data/dev-clean/84/121123/84-121123-0002....   \n",
       "3      ../../data/dev-clean/84/121123/84-121123-0003....   \n",
       "4      ../../data/dev-clean/84/121123/84-121123-0004....   \n",
       "\n",
       "                                                   label  label_length  \\\n",
       "index                                                                    \n",
       "0       [7, 15, 0, 4, 15, 0, 25, 15, 21, 0, 8, 5, 1, 18]            14   \n",
       "1      [2, 21, 20, 0, 9, 14, 0, 12, 5, 19, 19, 0, 20,...            83   \n",
       "2      [1, 20, 0, 20, 8, 9, 19, 0, 13, 15, 13, 5, 14,...           265   \n",
       "3      [1, 14, 4, 0, 20, 8, 5, 0, 3, 18, 25, 0, 9, 19...            85   \n",
       "4      [4, 0, 1, 22, 18, 9, 7, 14, 25, 0, 18, 21, 19,...            79   \n",
       "\n",
       "       spec_length  \n",
       "index               \n",
       "0               91  \n",
       "1              172  \n",
       "2              590  \n",
       "3              293  \n",
       "4              190  "
      ]
     },
     "metadata": {},
     "output_type": "display_data"
    }
   ],
   "source": [
    "meta = pd.read_csv(os.path.join(DST,'metadata.csv'), index_col = 'index')\n",
    "\n",
    "print(meta.shape)\n",
    "display(meta.head())"
   ]
  },
  {
   "cell_type": "code",
   "execution_count": 9,
   "metadata": {},
   "outputs": [
    {
     "data": {
      "text/plain": [
       "<matplotlib.axes._subplots.AxesSubplot at 0x7fc281981518>"
      ]
     },
     "execution_count": 9,
     "metadata": {},
     "output_type": "execute_result"
    },
    {
     "data": {
      "image/png": "[encoded data removed]",
      "text/plain": [
       "<Figure size 432x288 with 1 Axes>"
      ]
     },
     "metadata": {
      "needs_background": "light"
     },
     "output_type": "display_data"
    }
   ],
   "source": [
    "meta.spec_length.plot(kind='hist')"
   ]
  },
  {
   "cell_type": "code",
   "execution_count": 10,
   "metadata": {},
   "outputs": [
    {
     "name": "stdout",
     "output_type": "stream",
     "text": [
      "Converting train set into TFRecord shards...\n",
      "Converting test set into TFRecord shards...\n",
      "Converting validate set into TFRecord shards...\n",
      "Number of training examples: 1621.0\n",
      "Number of testing examples: 541.0\n",
      "Number of validation examples: 541.0\n",
      "TFRecord files saved to ../../data/dev_clean_final/TFrecords\n"
     ]
    }
   ],
   "source": [
    "converter = TFRecordsConverter(meta = os.path.join(DST,'metadata.csv'), \n",
    "                   output_dir = os.path.join(DST,'TFrecords'), \n",
    "                   n_shards_train = 2, \n",
    "                   n_shards_test = 1, \n",
    "                   n_shards_val = 1, \n",
    "                   test_size = 0.2, \n",
    "                   val_size = 0.2)\n",
    "\n",
    "converter.convert()"
   ]
  },
  {
   "cell_type": "code",
   "execution_count": null,
   "metadata": {},
   "outputs": [],
   "source": []
  }
 ],
 "metadata": {
  "kernelspec": {
   "display_name": "Python 3",
   "language": "python",
   "name": "python3"
  },
  "language_info": {
   "codemirror_mode": {
    "name": "ipython",
    "version": 3
   },
   "file_extension": ".py",
   "mimetype": "text/x-python",
   "name": "python",
   "nbconvert_exporter": "python",
   "pygments_lexer": "ipython3",
   "version": "3.5.3"
  }
 },
 "nbformat": 4,
 "nbformat_minor": 4
}
