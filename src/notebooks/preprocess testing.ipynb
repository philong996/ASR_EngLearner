{
 "cells": [
  {
   "cell_type": "code",
   "execution_count": 6,
   "metadata": {},
   "outputs": [],
   "source": [
    "from scipy import signal\n",
    "\n",
    "import soundfile as sf\n",
    "import numpy as np\n",
    "import pathlib\n",
    "import os\n",
    "import librosa"
   ]
  },
  {
   "cell_type": "code",
   "execution_count": 4,
   "metadata": {},
   "outputs": [
    {
     "data": {
      "text/plain": [
       "(584, 161)"
      ]
     },
     "execution_count": 4,
     "metadata": {},
     "output_type": "execute_result"
    }
   ],
   "source": [
    "test = np.load('./data/1272-128104-0000.npy')\n",
    "\n",
    "test.shape"
   ]
  },
  {
   "cell_type": "code",
   "execution_count": null,
   "metadata": {},
   "outputs": [],
   "source": [
    "ROOT = './data'\n",
    "folder = pathlib.Path(ROOT)\n",
    "i = 0\n",
    "for file in folder.glob('*/'):\n",
    "    if str(file)[-4:] == '.npy':\n",
    "        test = np.load(os.path.join(ROOT, file.name))\n",
    "\n",
    "        print(test.shape)\n",
    "        \n",
    "        if i == 1000:\n",
    "            break\n",
    "            \n",
    "        i += 1"
   ]
  },
  {
   "cell_type": "code",
   "execution_count": 37,
   "metadata": {},
   "outputs": [],
   "source": [
    "def log_linear_specgram(audio, sample_rate, window_size=20,\n",
    "                        step_size=10, eps=1e-10):\n",
    "\n",
    "    nperseg = int(round(window_size * sample_rate / 1e3))\n",
    "    noverlap = int(round(step_size * sample_rate / 1e3))\n",
    "\n",
    "    _, _, spec = signal.spectrogram(audio, fs=sample_rate,\n",
    "                                    window='hann', nperseg=nperseg, noverlap=noverlap,\n",
    "                                    detrend=False)\n",
    "\n",
    "    return np.log(spec.T.astype(np.float32) + eps)\n",
    "\n",
    "def _normalize_audio_feature(audio_feature):\n",
    "    \"\"\"Perform mean and variance normalization on the spectrogram feature.\n",
    "    Args:\n",
    "        audio_feature: a numpy array for the spectrogram feature.\n",
    "    Returns:\n",
    "        a numpy array of the normalized spectrogram.\n",
    "    \"\"\"\n",
    "    mean = np.mean(audio_feature, axis=0)\n",
    "    var = np.var(audio_feature, axis=0)\n",
    "    normalized = (audio_feature - mean) / (np.sqrt(var) + 1e-6)\n",
    "\n",
    "    return normalized"
   ]
  },
  {
   "cell_type": "code",
   "execution_count": 32,
   "metadata": {},
   "outputs": [
    {
     "name": "stdout",
     "output_type": "stream",
     "text": [
      "[0.00238037 0.0020752  0.00198364 ... 0.00042725 0.00057983 0.0010376 ]\n",
      "16000\n"
     ]
    },
    {
     "data": {
      "text/plain": [
       "5.855"
      ]
     },
     "execution_count": 32,
     "metadata": {},
     "output_type": "execute_result"
    }
   ],
   "source": [
    "audio, sr = sf.read('./dev-clean/dev-clean/1272/128104/1272-128104-0000.flac')\n",
    "print(audio)\n",
    "print(sr)\n",
    "len(audio) / sr"
   ]
  },
  {
   "cell_type": "code",
   "execution_count": 35,
   "metadata": {},
   "outputs": [
    {
     "name": "stdout",
     "output_type": "stream",
     "text": [
      "[[-22.532352 -20.430473 -20.791428 ... -23.025547 -23.021275 -23.024914]\n",
      " [-22.13534  -20.27576  -20.645267 ... -23.021513 -23.024462 -23.0258  ]\n",
      " [-23.015457 -19.67066  -20.491922 ... -23.024092 -23.02292  -23.019823]\n",
      " ...\n",
      " [-22.430746 -19.656033 -20.11614  ... -23.020298 -23.02459  -23.025414]\n",
      " [-22.930197 -20.477222 -21.099878 ... -23.025618 -23.023844 -23.02309 ]\n",
      " [-21.72683  -20.230967 -21.06793  ... -23.02299  -23.024109 -23.025787]]\n",
      "(584, 161)\n"
     ]
    }
   ],
   "source": [
    "spec_noah = log_linear_specgram(audio, sr, window_size=20, step_size=10)\n",
    "print(spec_noah)\n",
    "print(spec_noah.shape)"
   ]
  },
  {
   "cell_type": "code",
   "execution_count": 42,
   "metadata": {},
   "outputs": [
    {
     "name": "stdout",
     "output_type": "stream",
     "text": [
      "[[-1.5193279  -1.6876487  -1.5093766  ... -0.8995468  -0.89884335\n",
      "  -0.77739936]\n",
      " [-1.3558683  -1.6331824  -1.4732482  ... -0.89792866 -0.9000996\n",
      "  -0.77779764]\n",
      " [-1.7182337  -1.4201583  -1.435344   ... -0.89896303 -0.89949214\n",
      "  -0.7751136 ]\n",
      " ...\n",
      " [-1.4774941  -1.4150087  -1.342457   ... -0.8974413  -0.90014994\n",
      "  -0.7776238 ]\n",
      " [-1.6831299  -1.7041065  -1.5856204  ... -0.8995751  -0.89985603\n",
      "  -0.77658063]\n",
      " [-1.1876749  -1.6174128  -1.5777234  ... -0.8985208  -0.8999605\n",
      "  -0.7777916 ]]\n"
     ]
    }
   ],
   "source": [
    "spec_noah = _normalize_audio_feature(spec_noah)\n",
    "\n",
    "print(spec_noah)"
   ]
  },
  {
   "cell_type": "code",
   "execution_count": 44,
   "metadata": {},
   "outputs": [
    {
     "data": {
      "text/plain": [
       "(584, 161, 1)"
      ]
     },
     "execution_count": 44,
     "metadata": {},
     "output_type": "execute_result"
    }
   ],
   "source": [
    "np.expand_dims(spec_noah, axis=2).shape"
   ]
  },
  {
   "cell_type": "code",
   "execution_count": 13,
   "metadata": {},
   "outputs": [],
   "source": [
    "def extract_features(file_name):\n",
    "   \n",
    "    try:\n",
    "        audio, sample_rate = librosa.load(file_name) \n",
    "        mfccs = librosa.feature.mfcc(y=audio, sr=sample_rate, n_mfcc=40)\n",
    "        \n",
    "    except Exception as e:\n",
    "        print(\"Error encountered while parsing file: \", file_name)\n",
    "        return None \n",
    "     \n",
    "    return mfccs\n",
    "\n",
    "path = \"../data/toy_raw/84/121550/84-121550-0034.flac\"\n",
    "file = '../data/toy_raw/84/121123/84-121123-0000.flac'\n",
    "\n",
    "feature = extract_features(path)"
   ]
  },
  {
   "cell_type": "code",
   "execution_count": 16,
   "metadata": {},
   "outputs": [],
   "source": []
  },
  {
   "cell_type": "code",
   "execution_count": 1,
   "metadata": {},
   "outputs": [
    {
     "name": "stdout",
     "output_type": "stream",
     "text": [
      "this every other savour doth transcend and notwithstanding slaked so far may be thy thirst that i reveal to thee no more           \n"
     ]
    }
   ],
   "source": [
    "import re\n",
    "\n",
    "def create_character_mapping():\n",
    "\n",
    "    character_map = {' ': 0}\n",
    "\n",
    "    for i in range(97, 123):\n",
    "        character_map[chr(i)] = len(character_map)\n",
    "\n",
    "    return character_map\n",
    "\n",
    "char_idx = create_character_mapping()\n",
    "\n",
    "string = \"THIS EVERY OTHER SAVOUR DOTH TRANSCEND AND NOTWITHSTANDING SLAKED SO FAR MAY BE THY THIRST THAT I REVEAL TO THEE NO MORE 12/*1@#$$%\"\n",
    "\n",
    "\n",
    "# print([char_idx[char] for char in string.lower()])\n",
    "\n",
    "string_aft = ' '.join(re.split('[^a-z]', string.lower()))\n",
    "print(string_aft)"
   ]
  },
  {
   "cell_type": "code",
   "execution_count": null,
   "metadata": {},
   "outputs": [],
   "source": []
  }
 ],
 "metadata": {
  "kernelspec": {
   "display_name": "Python 3",
   "language": "python",
   "name": "python3"
  },
  "language_info": {
   "codemirror_mode": {
    "name": "ipython",
    "version": 3
   },
   "file_extension": ".py",
   "mimetype": "text/x-python",
   "name": "python",
   "nbconvert_exporter": "python",
   "pygments_lexer": "ipython3",
   "version": "3.7.6"
  }
 },
 "nbformat": 4,
 "nbformat_minor": 4
}
