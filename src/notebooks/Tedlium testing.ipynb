{
 "cells": [
  {
   "cell_type": "code",
   "execution_count": 1,
   "metadata": {},
   "outputs": [],
   "source": [
    "\n",
    "import numpy as np\n",
    "import os\n",
    "import pathlib\n",
    "import shutil\n",
    "\n",
    "from sphfile import SPHFile"
   ]
  },
  {
   "cell_type": "code",
   "execution_count": 2,
   "metadata": {},
   "outputs": [],
   "source": [
    "RAW_TRAIN = '../raw/train'\n",
    "RAW_VALID = '../raw/valid'\n",
    "RAW_TEST = '../raw/test'\n",
    "\n",
    "SAMPLES_TRAIN = '../samples/train'\n",
    "SAMPLES_VALID = '../samples/valid'\n",
    "SAMPLES_TEST = '../samples/test'"
   ]
  },
  {
   "cell_type": "code",
   "execution_count": 3,
   "metadata": {},
   "outputs": [],
   "source": [
    "def get_names(path):\n",
    "    path = pathlib.Path(os.path.join(path,'stm'))\n",
    "    names = []\n",
    "    for path in path.glob('*/'):\n",
    "        names.append(path.name.split('.')[0])\n",
    "    return names\n",
    "\n",
    "train_names = get_names(RAW_TRAIN)\n",
    "valid_names = get_names(RAW_VALID)\n",
    "test_names = get_names(RAW_TEST)"
   ]
  },
  {
   "cell_type": "code",
   "execution_count": 4,
   "metadata": {},
   "outputs": [
    {
     "name": "stdout",
     "output_type": "stream",
     "text": [
      "50 8 11\n",
      "69\n"
     ]
    }
   ],
   "source": [
    "print(len(train_names), len(valid_names), len(test_names))\n",
    "\n",
    "all_names = set(train_names + valid_names + test_names)\n",
    "print(len(all_names))"
   ]
  },
  {
   "cell_type": "code",
   "execution_count": 57,
   "metadata": {},
   "outputs": [],
   "source": [
    "def convert_to_wav(src, dst ,name):\n",
    "    print(f\"Processing: {name}\")\n",
    "    #create 2 folder\n",
    "    try:\n",
    "        os.mkdir(os.path.join(dst, 'audio'))\n",
    "        os.mkdir(os.path.join(dst, 'label'))\n",
    "    except OSError as exc:\n",
    "        if exc.errno != errno.EEXIST:\n",
    "            raise\n",
    "        pass\n",
    "    \n",
    "    #create path\n",
    "    audio_src = os.path.join(src,'sph' ,name)  \n",
    "    audio_dst = os.path.join(dst,'audio', name) \n",
    "    label_src = os.path\n",
    "    \n",
    "    #read file from sph\n",
    "    sph = SPHFile(audio_src + '.sph')\n",
    "    #write to wav file and copy file label\n",
    "    sph.write_wav(audio_dst + '.wav')\n",
    "    \n",
    "    "
   ]
  },
  {
   "cell_type": "code",
   "execution_count": 2,
   "metadata": {},
   "outputs": [
    {
     "name": "stdout",
     "output_type": "stream",
     "text": [
      "/home/long/Git_Repo/Speech_recog_4learning/src\n"
     ]
    }
   ],
   "source": [
    "\"../raw/train/stm/AsherHasan_2009I.stm\""
   ]
  },
  {
   "cell_type": "code",
   "execution_count": 1,
   "metadata": {},
   "outputs": [],
   "source": [
    "def create_character_mapping():\n",
    "\n",
    "    character_map = {' ': 0}\n",
    "\n",
    "    for i in range(97, 123):\n",
    "        character_map[chr(i)] = len(character_map)\n",
    "\n",
    "    return character_map"
   ]
  },
  {
   "cell_type": "code",
   "execution_count": 2,
   "metadata": {},
   "outputs": [],
   "source": [
    "chars = create_character_mapping()"
   ]
  },
  {
   "cell_type": "code",
   "execution_count": 4,
   "metadata": {},
   "outputs": [
    {
     "data": {
      "text/plain": [
       "'\\x01'"
      ]
     },
     "execution_count": 4,
     "metadata": {},
     "output_type": "execute_result"
    }
   ],
   "source": [
    "chr(1)"
   ]
  }
 ],
 "metadata": {
  "kernelspec": {
   "display_name": "Python 3",
   "language": "python",
   "name": "python3"
  },
  "language_info": {
   "codemirror_mode": {
    "name": "ipython",
    "version": 3
   },
   "file_extension": ".py",
   "mimetype": "text/x-python",
   "name": "python",
   "nbconvert_exporter": "python",
   "pygments_lexer": "ipython3",
   "version": "3.7.3"
  }
 },
 "nbformat": 4,
 "nbformat_minor": 4
}
