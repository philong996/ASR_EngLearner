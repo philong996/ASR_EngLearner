{
 "cells": [
  {
   "cell_type": "code",
   "execution_count": 5,
   "metadata": {},
   "outputs": [],
   "source": [
    "import train\n",
    "import utils\n",
    "import config"
   ]
  },
  {
   "cell_type": "code",
   "execution_count": 6,
   "metadata": {},
   "outputs": [],
   "source": [
    "data_detail = train.get_data_detail('toy_train')\n",
    "\n",
    "TRAIN_STEPS = int(data_detail['n_training'] / config.training['batch_size'])\n",
    "VALID_STEPS = int(data_detail['n_valid'] / config.training['batch_size'])\n",
    "        \n",
    "train_ds, train_labels = utils.get_dataset_from_tfrecords(data_detail,\n",
    "                                                         tfrecords_dir=data_detail['data_folder'], \n",
    "                                                         split='train', \n",
    "                                                         batch_size=config.training['batch_size'])\n",
    "valid_ds, valid_labels = utils.get_dataset_from_tfrecords(data_detail,\n",
    "                                                        tfrecords_dir=data_detail['data_folder'], \n",
    "                                                        split='valid', \n",
    "                                                        batch_size=config.training['batch_size'])"
   ]
  },
  {
   "cell_type": "code",
   "execution_count": 9,
   "metadata": {},
   "outputs": [
    {
     "data": {
      "text/plain": [
       "{'n_training': 244,\n",
       " 'n_valid': 0,\n",
       " 'n_test': 62,\n",
       " 'max_label_length': 505,\n",
       " 'max_input_length': 3263,\n",
       " 'data_folder': '../data\\\\toy_train\\\\TFrecords',\n",
       " 'num_features': 161,\n",
       " 'num_label': 29}"
      ]
     },
     "execution_count": 9,
     "metadata": {},
     "output_type": "execute_result"
    }
   ],
   "source": [
    "data_detail"
   ]
  },
  {
   "cell_type": "code",
   "execution_count": 8,
   "metadata": {},
   "outputs": [
    {
     "data": {
      "text/plain": [
       "<PrefetchDataset shapes: ((None, 3263, 161), (None, 505)), types: (tf.float32, tf.int64)>"
      ]
     },
     "execution_count": 8,
     "metadata": {},
     "output_type": "execute_result"
    }
   ],
   "source": [
    "train_ds.take()"
   ]
  },
  {
   "cell_type": "code",
   "execution_count": 13,
   "metadata": {},
   "outputs": [
    {
     "data": {
      "text/plain": [
       "<PrefetchDataset shapes: ((None, 3263, 161), (None, 505)), types: (tf.float32, tf.int64)>"
      ]
     },
     "execution_count": 13,
     "metadata": {},
     "output_type": "execute_result"
    }
   ],
   "source": [
    "valid_ds"
   ]
  },
  {
   "cell_type": "code",
   "execution_count": 11,
   "metadata": {},
   "outputs": [],
   "source": [
    "#get test data detail\n",
    "test_detail = train.get_data_detail('toy_test')\n",
    "\n",
    "#prepare for testing data\n",
    "TEST_STEPS = int(test_detail['n_test'] / config.training['batch_size'])\n",
    "\n",
    "test_ds, labels = utils.get_dataset_from_tfrecords(test_detail, \n",
    "                                                tfrecords_dir=test_detail['data_folder'], \n",
    "                                                split='test', \n",
    "                                                batch_size=config.training['batch_size'])"
   ]
  },
  {
   "cell_type": "code",
   "execution_count": 12,
   "metadata": {},
   "outputs": [
    {
     "data": {
      "text/plain": [
       "<PrefetchDataset shapes: ((None, 3263, 161), (None, 505)), types: (tf.float32, tf.int64)>"
      ]
     },
     "execution_count": 12,
     "metadata": {},
     "output_type": "execute_result"
    }
   ],
   "source": [
    "test_ds"
   ]
  }
 ],
 "metadata": {
  "kernelspec": {
   "display_name": "Python 3",
   "language": "python",
   "name": "python3"
  },
  "language_info": {
   "codemirror_mode": {
    "name": "ipython",
    "version": 3
   },
   "file_extension": ".py",
   "mimetype": "text/x-python",
   "name": "python",
   "nbconvert_exporter": "python",
   "pygments_lexer": "ipython3",
   "version": "3.7.6"
  }
 },
 "nbformat": 4,
 "nbformat_minor": 4
}
