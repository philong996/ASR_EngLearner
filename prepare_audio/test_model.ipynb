{
 "cells": [
  {
   "cell_type": "code",
   "execution_count": 65,
   "metadata": {},
   "outputs": [],
   "source": [
    "import os\n",
    "import pandas as pd\n",
    "import numpy as np\n",
    "from tqdm import tqdm\n",
    "\n",
    "import infer_from_model as md"
   ]
  },
  {
   "cell_type": "code",
   "execution_count": 59,
   "metadata": {},
   "outputs": [],
   "source": [
    "model_dir = './models'\n",
    "\n",
    "model = md.load_model(model_dir)\n",
    "\n",
    "# print(transcribe('./test_mic/chunk-03.wav', model))"
   ]
  },
  {
   "cell_type": "code",
   "execution_count": 2,
   "metadata": {},
   "outputs": [],
   "source": [
    "PARENT_DIR = os.path.join('..','data','talks_for_app')\n",
    "\n",
    "audio_indices = list(os.walk(PARENT_DIR))[0][1]"
   ]
  },
  {
   "cell_type": "code",
   "execution_count": 3,
   "metadata": {},
   "outputs": [],
   "source": [
    "for audio_idx in audio_indices:\n",
    "    audio_folder = os.path.join(PARENT_DIR, audio_idx, 'sent_audio')"
   ]
  },
  {
   "cell_type": "code",
   "execution_count": 66,
   "metadata": {},
   "outputs": [],
   "source": [
    "transcript_path = os.path.join(PARENT_DIR, audio_indices[0], 'final_transcript.csv')\n",
    "\n",
    "trans = pd.read_csv(transcript_path, index_col=0)"
   ]
  },
  {
   "cell_type": "code",
   "execution_count": 73,
   "metadata": {},
   "outputs": [
    {
     "data": {
      "text/plain": [
       "0                                           how are you\n",
       "2                                               has not\n",
       "3         i've been down away about the whole thing if \n",
       "4                                              leaving \n",
       "6       these have no running through the conference we\n",
       "7       rather relevant to an want to talk about one is\n",
       "8         extraordinary evidence of human creativity in\n",
       "9     all of the presentations that we've had ten an...\n",
       "10                                   people have a just\n",
       "11          mark in the variety of his in the rangement\n",
       "12       second is that it's put it in a place where we\n",
       "13                             no idea what to do have \n",
       "14                                      times a future \n",
       "15                                 i have as my plans i\n",
       "16                                         introduction\n",
       "17    at what i find is everybody has an attestation...\n",
       "18                                                     \n",
       "19                                        you did at de\n",
       "20                 and you say you work in education at\n",
       "21                       not often identified to prayer\n",
       "Name: sent_path, dtype: object"
      ]
     },
     "execution_count": 73,
     "metadata": {},
     "output_type": "execute_result"
    }
   ],
   "source": [
    "def transcripe_audio(path, model):\n",
    "    pred = md.transcribe(path, model)\n",
    "    return pred\n",
    "\n",
    "trans.head(20).sent_path.apply(transcripe_audio, args = (model,))"
   ]
  },
  {
   "cell_type": "code",
   "execution_count": 76,
   "metadata": {},
   "outputs": [
    {
     "data": {
      "text/plain": [
       "0                            Good morning. How are you?\n",
       "2                           It's been great, hasn't it?\n",
       "3              I've been blown away by the whole thing.\n",
       "4                                 In fact, I'm leaving.\n",
       "6     There have been three themes\\nrunning through ...\n",
       "7     which are relevant\\nto what I want to talk about.\n",
       "8     One is the extraordinary\\nevidence of human cr...\n",
       "9            in all of the presentations that we've had\n",
       "10                       and in all of the people here;\n",
       "11         just the variety of it\\nand the range of it.\n",
       "12            The second is that it's put us in a place\n",
       "13        where we have no idea\\nwhat's going to happen\n",
       "14                              in terms of the future.\n",
       "15                       No idea how this may play out.\n",
       "16                     I have an interest in education.\n",
       "17    Actually, what I find is,\\neverybody has an in...\n",
       "18                                           Don't you?\n",
       "19                        I find this very interesting.\n",
       "20    If you're at a dinner party,\\nand you say you ...\n",
       "21    actually, you're not often\\nat dinner parties,...\n",
       "Name: text, dtype: object"
      ]
     },
     "execution_count": 76,
     "metadata": {},
     "output_type": "execute_result"
    }
   ],
   "source": [
    "trans.text.head(20)"
   ]
  },
  {
   "cell_type": "code",
   "execution_count": 81,
   "metadata": {},
   "outputs": [],
   "source": [
    "from pydub import AudioSegment\n",
    "\n",
    "audio = AudioSegment.from_wav(trans.sent_path.iloc[1])"
   ]
  },
  {
   "cell_type": "code",
   "execution_count": 91,
   "metadata": {},
   "outputs": [
    {
     "data": {
      "text/plain": [
       "<_io.BufferedRandom name='./test_02.wav'>"
      ]
     },
     "execution_count": 91,
     "metadata": {},
     "output_type": "execute_result"
    }
   ],
   "source": [
    "new_audio = audio + 7\n",
    "new_audio.export('./test_02.wav', format = 'wav')"
   ]
  },
  {
   "cell_type": "code",
   "execution_count": 92,
   "metadata": {},
   "outputs": [
    {
     "name": "stdout",
     "output_type": "stream",
     "text": [
      "has not\n"
     ]
    }
   ],
   "source": [
    "print(md.transcribe('./test_02.wav', model))"
   ]
  },
  {
   "cell_type": "code",
   "execution_count": 96,
   "metadata": {},
   "outputs": [
    {
     "data": {
      "text/plain": [
       "numpy.float64"
      ]
     },
     "execution_count": 96,
     "metadata": {},
     "output_type": "execute_result"
    }
   ],
   "source": [
    "ori_path = '../data/talks_for_app/0/0.wav'\n"
   ]
  }
 ],
 "metadata": {
  "kernelspec": {
   "display_name": "Python 3",
   "language": "python",
   "name": "python3"
  },
  "language_info": {
   "codemirror_mode": {
    "name": "ipython",
    "version": 3
   },
   "file_extension": ".py",
   "mimetype": "text/x-python",
   "name": "python",
   "nbconvert_exporter": "python",
   "pygments_lexer": "ipython3",
   "version": "3.7.4"
  }
 },
 "nbformat": 4,
 "nbformat_minor": 4
}
